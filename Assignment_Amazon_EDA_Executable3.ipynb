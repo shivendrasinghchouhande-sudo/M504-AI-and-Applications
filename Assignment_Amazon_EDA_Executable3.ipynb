{
 "cells": [
  {
   "cell_type": "markdown",
   "id": "51b805c9",
   "metadata": {},
   "source": [
    "# M504 – Exploratory Data Analysis — Amazon Product Sales\n",
    "**Student:** Shivendra Singh Chouhan  \n",
    "**Student Number:** GH1048523  \n",
    "**Professor:** Dr Eng. Sami Alsalamin  \n"
   ]
  },
  {
   "cell_type": "markdown",
   "id": "da992aad",
   "metadata": {},
   "source": [
    "## Abstract\n",
    "In order to identify the primary factors influencing the product performance and purchasing behaviour of consumer, this study uses an exploratory data analysis (EDA) on a dataset of Amazon product sales. Product categories, ratings, price, discounts, and seller attributes are the main topics of the analysis, which employs some Python libraries like Pandas, Matplotlib, and Seaborn to find the new trends and offer useful business insights for e-commerce optimization."
   ]
  },
  {
   "cell_type": "markdown",
   "id": "e9125c80",
   "metadata": {},
   "source": [
    "## Business Context and Problem Definition\n",
    "Understanding the elements that influence sales performance, category position, and consumer purchasing behavior presents difficulties for Amazon platform administrators and merchants. Looking out which consumer behaviors and product attributes (such as ratings, discounts, categories, and seller type) affect the most purchases is the business challenge. These insights can be used to guide price, promotion, and inventory strategies."
   ]
  },
  {
   "cell_type": "markdown",
   "id": "dd12dfd0",
   "metadata": {},
   "source": [
    "## Approach\n",
    "The approach consists of the following steps:\n",
    "\n",
    "1. **Data Preparation** – Load and preprocess the dataset.\n",
    "2. **Data Cleaning** – Handle missing values, duplicates, normalize columns.\n",
    "3. **Exploratory Analysis** – Summarize and visualize the dataset.\n",
    "4. **Business Question Analysis** – Answer seven diverse business questions.\n",
    "5. **Insights & Recommendations** – Provide actionable strategies."
   ]
  },
  {
   "cell_type": "markdown",
   "id": "3ea4fa98-8977-455e-8b66-a2f719a634bf",
   "metadata": {},
   "source": [
    "#### Dataset:('https://www.kaggle.com/datasets/ikramshah512/amazon-products-sales-dataset-42k-items-2025?select=amazon_products_sales_data_uncleaned.csv')\n",
    "#### Github:( https://github.com/shivendrasinghchouhande-sudo/M504-AI-and-Applications/upload')"
   ]
  },
  {
   "cell_type": "markdown",
   "id": "fb2bf80a",
   "metadata": {},
   "source": [
    "## Data Preparation"
   ]
  },
  {
   "attachments": {},
   "cell_type": "markdown",
   "id": "5dc3dc15-e5a2-4817-8996-62179e064f4b",
   "metadata": {},
   "source": [
    "##### ---- Notes: ----\n",
    "##### Step 1: I import the necessary Python libraries:\n",
    "#####         pandas and numpy for data handling,\n",
    "#####         matplotlib and seaborn for visualizations,\n",
    "#####         and warnings to suppress unnecessary alerts.\n",
    "##### Step 2: I adjust pandas display settings so I can see up to 200 columns if needed.\n",
    "##### Step 3: I load the cleaned Amazon products dataset from my local folder.\n",
    "##### Step 4: I print the shape of the dataset to know how many rows and columns it has.\n",
    "##### Step 5: I print out the column names to see what features are available.\n",
    "##### Step 6: Finally, I show the first few rows with df.head() to get a quick preview of the data."
   ]
  },
  {
   "cell_type": "code",
   "execution_count": 13,
   "id": "d02814de",
   "metadata": {
    "scrolled": true
   },
   "outputs": [
    {
     "name": "stdout",
     "output_type": "stream",
     "text": [
      "Rows, columns: (42675, 17)\n",
      "\n",
      "Columns:\n",
      "['product_title', 'product_rating', 'total_reviews', 'purchased_last_month', 'discounted_price', 'original_price', 'is_best_seller', 'is_sponsored', 'has_coupon', 'buy_box_availability', 'delivery_date', 'sustainability_tags', 'product_image_url', 'product_page_url', 'data_collected_at', 'product_category', 'discount_percentage']\n"
     ]
    },
    {
     "data": {
      "text/html": [
       "<div>\n",
       "<style scoped>\n",
       "    .dataframe tbody tr th:only-of-type {\n",
       "        vertical-align: middle;\n",
       "    }\n",
       "\n",
       "    .dataframe tbody tr th {\n",
       "        vertical-align: top;\n",
       "    }\n",
       "\n",
       "    .dataframe thead th {\n",
       "        text-align: right;\n",
       "    }\n",
       "</style>\n",
       "<table border=\"1\" class=\"dataframe\">\n",
       "  <thead>\n",
       "    <tr style=\"text-align: right;\">\n",
       "      <th></th>\n",
       "      <th>product_title</th>\n",
       "      <th>product_rating</th>\n",
       "      <th>total_reviews</th>\n",
       "      <th>purchased_last_month</th>\n",
       "      <th>discounted_price</th>\n",
       "      <th>original_price</th>\n",
       "      <th>is_best_seller</th>\n",
       "      <th>is_sponsored</th>\n",
       "      <th>has_coupon</th>\n",
       "      <th>buy_box_availability</th>\n",
       "      <th>delivery_date</th>\n",
       "      <th>sustainability_tags</th>\n",
       "      <th>product_image_url</th>\n",
       "      <th>product_page_url</th>\n",
       "      <th>data_collected_at</th>\n",
       "      <th>product_category</th>\n",
       "      <th>discount_percentage</th>\n",
       "    </tr>\n",
       "  </thead>\n",
       "  <tbody>\n",
       "    <tr>\n",
       "      <th>0</th>\n",
       "      <td>BOYA BOYALINK 2 Wireless Lavalier Microphone f...</td>\n",
       "      <td>4.6</td>\n",
       "      <td>375.0</td>\n",
       "      <td>300.0</td>\n",
       "      <td>89.68</td>\n",
       "      <td>159.00</td>\n",
       "      <td>No Badge</td>\n",
       "      <td>Sponsored</td>\n",
       "      <td>Save 15%  with coupon</td>\n",
       "      <td>Add to cart</td>\n",
       "      <td>2025-09-01</td>\n",
       "      <td>Carbon impact</td>\n",
       "      <td>https://m.media-amazon.com/images/I/71pAqiVEs3...</td>\n",
       "      <td>https://www.amazon.com/sspa/click?ie=UTF8&amp;spc=...</td>\n",
       "      <td>2025-08-21 11:14:29</td>\n",
       "      <td>Phones</td>\n",
       "      <td>43.60</td>\n",
       "    </tr>\n",
       "    <tr>\n",
       "      <th>1</th>\n",
       "      <td>LISEN USB C to Lightning Cable, 240W 4 in 1 Ch...</td>\n",
       "      <td>4.3</td>\n",
       "      <td>2457.0</td>\n",
       "      <td>6000.0</td>\n",
       "      <td>9.99</td>\n",
       "      <td>15.99</td>\n",
       "      <td>No Badge</td>\n",
       "      <td>Sponsored</td>\n",
       "      <td>No Coupon</td>\n",
       "      <td>Add to cart</td>\n",
       "      <td>2025-08-29</td>\n",
       "      <td>NaN</td>\n",
       "      <td>https://m.media-amazon.com/images/I/61nbF6aVIP...</td>\n",
       "      <td>https://www.amazon.com/sspa/click?ie=UTF8&amp;spc=...</td>\n",
       "      <td>2025-08-21 11:14:29</td>\n",
       "      <td>Laptops</td>\n",
       "      <td>37.52</td>\n",
       "    </tr>\n",
       "    <tr>\n",
       "      <th>2</th>\n",
       "      <td>DJI Mic 2 (2 TX + 1 RX + Charging Case), Wirel...</td>\n",
       "      <td>4.6</td>\n",
       "      <td>3044.0</td>\n",
       "      <td>2000.0</td>\n",
       "      <td>314.00</td>\n",
       "      <td>349.00</td>\n",
       "      <td>No Badge</td>\n",
       "      <td>Sponsored</td>\n",
       "      <td>No Coupon</td>\n",
       "      <td>Add to cart</td>\n",
       "      <td>2025-09-01</td>\n",
       "      <td>NaN</td>\n",
       "      <td>https://m.media-amazon.com/images/I/61h78MEXoj...</td>\n",
       "      <td>https://www.amazon.com/sspa/click?ie=UTF8&amp;spc=...</td>\n",
       "      <td>2025-08-21 11:14:29</td>\n",
       "      <td>Laptops</td>\n",
       "      <td>10.03</td>\n",
       "    </tr>\n",
       "    <tr>\n",
       "      <th>3</th>\n",
       "      <td>Apple AirPods Pro 2 Wireless Earbuds, Active N...</td>\n",
       "      <td>4.6</td>\n",
       "      <td>35882.0</td>\n",
       "      <td>10000.0</td>\n",
       "      <td>162.24</td>\n",
       "      <td>162.24</td>\n",
       "      <td>Best Seller</td>\n",
       "      <td>Organic</td>\n",
       "      <td>No Coupon</td>\n",
       "      <td>NaN</td>\n",
       "      <td>NaN</td>\n",
       "      <td>NaN</td>\n",
       "      <td>https://m.media-amazon.com/images/I/61SUj2aKoE...</td>\n",
       "      <td>https://www.amazon.com/Apple-Cancellation-Tran...</td>\n",
       "      <td>2025-08-21 11:14:29</td>\n",
       "      <td>Phones</td>\n",
       "      <td>0.00</td>\n",
       "    </tr>\n",
       "    <tr>\n",
       "      <th>4</th>\n",
       "      <td>Apple AirTag 4 Pack. Keep Track of and find Yo...</td>\n",
       "      <td>4.8</td>\n",
       "      <td>28988.0</td>\n",
       "      <td>10000.0</td>\n",
       "      <td>72.74</td>\n",
       "      <td>72.74</td>\n",
       "      <td>No Badge</td>\n",
       "      <td>Organic</td>\n",
       "      <td>No Coupon</td>\n",
       "      <td>NaN</td>\n",
       "      <td>NaN</td>\n",
       "      <td>NaN</td>\n",
       "      <td>https://m.media-amazon.com/images/I/61bMNCeAUA...</td>\n",
       "      <td>https://www.amazon.com/Apple-MX542LL-A-AirTag-...</td>\n",
       "      <td>2025-08-21 11:14:29</td>\n",
       "      <td>Phones</td>\n",
       "      <td>0.00</td>\n",
       "    </tr>\n",
       "  </tbody>\n",
       "</table>\n",
       "</div>"
      ],
      "text/plain": [
       "                                       product_title  product_rating  \\\n",
       "0  BOYA BOYALINK 2 Wireless Lavalier Microphone f...             4.6   \n",
       "1  LISEN USB C to Lightning Cable, 240W 4 in 1 Ch...             4.3   \n",
       "2  DJI Mic 2 (2 TX + 1 RX + Charging Case), Wirel...             4.6   \n",
       "3  Apple AirPods Pro 2 Wireless Earbuds, Active N...             4.6   \n",
       "4  Apple AirTag 4 Pack. Keep Track of and find Yo...             4.8   \n",
       "\n",
       "   total_reviews  purchased_last_month  discounted_price  original_price  \\\n",
       "0          375.0                 300.0             89.68          159.00   \n",
       "1         2457.0                6000.0              9.99           15.99   \n",
       "2         3044.0                2000.0            314.00          349.00   \n",
       "3        35882.0               10000.0            162.24          162.24   \n",
       "4        28988.0               10000.0             72.74           72.74   \n",
       "\n",
       "  is_best_seller is_sponsored             has_coupon buy_box_availability  \\\n",
       "0       No Badge    Sponsored  Save 15%  with coupon          Add to cart   \n",
       "1       No Badge    Sponsored              No Coupon          Add to cart   \n",
       "2       No Badge    Sponsored              No Coupon          Add to cart   \n",
       "3    Best Seller      Organic              No Coupon                  NaN   \n",
       "4       No Badge      Organic              No Coupon                  NaN   \n",
       "\n",
       "  delivery_date sustainability_tags  \\\n",
       "0    2025-09-01       Carbon impact   \n",
       "1    2025-08-29                 NaN   \n",
       "2    2025-09-01                 NaN   \n",
       "3           NaN                 NaN   \n",
       "4           NaN                 NaN   \n",
       "\n",
       "                                   product_image_url  \\\n",
       "0  https://m.media-amazon.com/images/I/71pAqiVEs3...   \n",
       "1  https://m.media-amazon.com/images/I/61nbF6aVIP...   \n",
       "2  https://m.media-amazon.com/images/I/61h78MEXoj...   \n",
       "3  https://m.media-amazon.com/images/I/61SUj2aKoE...   \n",
       "4  https://m.media-amazon.com/images/I/61bMNCeAUA...   \n",
       "\n",
       "                                    product_page_url    data_collected_at  \\\n",
       "0  https://www.amazon.com/sspa/click?ie=UTF8&spc=...  2025-08-21 11:14:29   \n",
       "1  https://www.amazon.com/sspa/click?ie=UTF8&spc=...  2025-08-21 11:14:29   \n",
       "2  https://www.amazon.com/sspa/click?ie=UTF8&spc=...  2025-08-21 11:14:29   \n",
       "3  https://www.amazon.com/Apple-Cancellation-Tran...  2025-08-21 11:14:29   \n",
       "4  https://www.amazon.com/Apple-MX542LL-A-AirTag-...  2025-08-21 11:14:29   \n",
       "\n",
       "  product_category  discount_percentage  \n",
       "0           Phones                43.60  \n",
       "1          Laptops                37.52  \n",
       "2          Laptops                10.03  \n",
       "3           Phones                 0.00  \n",
       "4           Phones                 0.00  "
      ]
     },
     "execution_count": 13,
     "metadata": {},
     "output_type": "execute_result"
    }
   ],
   "source": [
    "import pandas as pd\n",
    "import numpy as np\n",
    "import matplotlib.pyplot as plt\n",
    "import seaborn as sns\n",
    "import warnings\n",
    "warnings.filterwarnings('ignore')\n",
    "\n",
    "pd.set_option('display.max_columns', 200)\n",
    "\n",
    "df = pd.read_csv('C:\\\\Users\\\\Dell\\\\OneDrive\\\\Desktop\\\\AI and application assignemnt - Copy\\\\amazon_products_sales_data_cleaned.csv', low_memory=False)\n",
    "print('Rows, columns:', df.shape)\n",
    "print('\\nColumns:')\n",
    "print(list(df.columns))\n",
    "df.head()"
   ]
  },
  {
   "cell_type": "markdown",
   "id": "1a6e5256-837c-4ad8-a927-78bcb23fab18",
   "metadata": {},
   "source": [
    "##### ---- Outcome Notes ----\n",
    "##### At this stage, I have successfully loaded the dataset \n",
    "##### and now I can clearly see its structure, available columns, \n",
    "##### and a sample of the data I will be analyzing."
   ]
  },
  {
   "cell_type": "markdown",
   "id": "f921eb1d-6cc1-428b-863e-57a1ed617da2",
   "metadata": {},
   "source": [
    "## Are there any missing values? "
   ]
  },
  {
   "cell_type": "markdown",
   "id": "71997d0e-6754-4ea1-b0a7-64d518f69842",
   "metadata": {},
   "source": [
    "##### ---- Notes: Checking for Missing Values ----\n",
    "##### Step 1: I use df.isnull().sum() to count how many missing values are present in each column.\n",
    "##### Step 2: This gives me a quick overview of data quality \n",
    "#####         and shows which columns may need cleaning or imputation."
   ]
  },
  {
   "cell_type": "code",
   "execution_count": 14,
   "id": "77e2bbc1-d6ae-460e-9e44-70c94b162961",
   "metadata": {},
   "outputs": [
    {
     "data": {
      "text/plain": [
       "product_title               0\n",
       "product_rating           1024\n",
       "total_reviews            1024\n",
       "purchased_last_month    10511\n",
       "discounted_price         2062\n",
       "original_price           2062\n",
       "is_best_seller              0\n",
       "is_sponsored                0\n",
       "has_coupon                  0\n",
       "buy_box_availability    14653\n",
       "delivery_date           11983\n",
       "sustainability_tags     39267\n",
       "product_image_url           0\n",
       "product_page_url         2069\n",
       "data_collected_at           0\n",
       "product_category            0\n",
       "discount_percentage      2062\n",
       "dtype: int64"
      ]
     },
     "execution_count": 14,
     "metadata": {},
     "output_type": "execute_result"
    }
   ],
   "source": [
    "df.isnull().sum()"
   ]
  },
  {
   "cell_type": "markdown",
   "id": "c60fae5d-ba75-4199-b865-3e62e9eabb72",
   "metadata": {},
   "source": [
    "##### ---- Outcome Notes ----\n",
    "##### The output lists the number of missing values for every column.\n",
    "##### If I see large numbers, it means those columns need attention \n",
    "##### (for example, filling missing values or marking them as 'Unknown').\n",
    "##### If the numbers are all zeros, it means the dataset is already clean with no missing data."
   ]
  },
  {
   "cell_type": "markdown",
   "id": "13360456-d5ca-4fe6-85f5-f1085d91254d",
   "metadata": {},
   "source": [
    "## Are there any duplicate values?"
   ]
  },
  {
   "cell_type": "code",
   "execution_count": 15,
   "id": "5d5e170f-6533-4da1-9da1-abaf8e40f67d",
   "metadata": {},
   "outputs": [
    {
     "data": {
      "text/plain": [
       "np.int64(0)"
      ]
     },
     "execution_count": 15,
     "metadata": {},
     "output_type": "execute_result"
    }
   ],
   "source": [
    "df.duplicated().sum()"
   ]
  },
  {
   "cell_type": "markdown",
   "id": "26950223-4a9b-4f79-804d-a244336daccb",
   "metadata": {},
   "source": [
    "##### No Duplicates identified"
   ]
  },
  {
   "cell_type": "markdown",
   "id": "6548f2b8",
   "metadata": {},
   "source": [
    "## Data Cleaning"
   ]
  },
  {
   "cell_type": "markdown",
   "id": "e1df5638-e1cc-41ac-9fb9-79565ef37163",
   "metadata": {},
   "source": [
    "##### ---- Data cleaning ----\n",
    "##### This step standardizes all column names by:\n",
    "##### - Removing extra spaces\n",
    "##### - Converting names to lowercase\n",
    "##### - Replacing spaces and hyphens with underscores"
   ]
  },
  {
   "cell_type": "code",
   "execution_count": 16,
   "id": "e5e1b4c9",
   "metadata": {},
   "outputs": [
    {
     "name": "stdout",
     "output_type": "stream",
     "text": [
      "After cleaning: (42675, 17)\n"
     ]
    }
   ],
   "source": [
    "\n",
    "df.columns = df.columns.str.strip().str.lower().str.replace(' ', '_').str.replace('-', '_')\n",
    "\n",
    "# Drop duplicates\n",
    "df = df.drop_duplicates().reset_index(drop=True)\n",
    "\n",
    "# Handle missing values\n",
    "num_cols = df.select_dtypes(include=['int64','float64']).columns.tolist()\n",
    "cat_cols = df.select_dtypes(include=['object','category']).columns.tolist()\n",
    "\n",
    "for c in num_cols:\n",
    "    df[c] = pd.to_numeric(df[c], errors='coerce').fillna(0)\n",
    "\n",
    "for c in cat_cols:\n",
    "    df[c] = df[c].fillna('Unknown').astype(str)\n",
    "\n",
    "# Convert date-like columns\n",
    "for c in df.columns:\n",
    "    if 'date' in c or 'day' in c or 'time' in c or 'month' in c or 'year' in c:\n",
    "        try:\n",
    "            df[c] = pd.to_datetime(df[c], errors='coerce')\n",
    "        except Exception:\n",
    "            pass\n",
    "\n",
    "print('After cleaning:', df.shape)"
   ]
  },
  {
   "cell_type": "markdown",
   "id": "adfe2c35-1437-41dc-9b3d-fd419233d72e",
   "metadata": {},
   "source": [
    "##### Notes: ---- What I did to standardize the data set  ----\n",
    "##### 1. Standardizes column names (lowercase, underscores) for consistency.\n",
    "##### 2. Removes duplicate rows to avoid repeated records in analysis.\n",
    "##### 3. Handles missing values:\n",
    "#####      - Numeric columns → convert to numbers, replace missing with 0.\n",
    "#####      - Categorical columns → replace missing with \"Unknown\".\n",
    "##### 4. Converts any date/time-like columns into proper datetime format.\n",
    "##### 5. Prints the final dataset shape after cleaning."
   ]
  },
  {
   "cell_type": "markdown",
   "id": "f8f36304",
   "metadata": {},
   "source": [
    "## Business Questions"
   ]
  },
  {
   "cell_type": "markdown",
   "id": "d9cf3d40",
   "metadata": {},
   "source": [
    "### Q1 — Which product categories generated the most units purchased last month?\n",
    "**Importance:** Identifies top-performing categories to focus inventory and marketing."
   ]
  },
  {
   "cell_type": "markdown",
   "id": "9cb06f90-31e7-4727-8e47-41f4bf538590",
   "metadata": {},
   "source": [
    "##### To analyse the most unit purchased i follow below steps:\n",
    "##### 1. I Define the columns for category and purchase units.\n",
    "##### 2. I Ensure the purchase column is numeric and replace missing values with 0.\n",
    "##### 3. I Grouped the data by product category and sum the purchases.\n",
    "##### 4. I Sorted categories by total purchases (highest first) and take the top 20.\n",
    "##### 5. Then I Printed the result showing the most popular categories."
   ]
  },
  {
   "cell_type": "code",
   "execution_count": 17,
   "id": "3047ada7",
   "metadata": {},
   "outputs": [
    {
     "name": "stdout",
     "output_type": "stream",
     "text": [
      "product_category\n",
      "Power & Batteries      26151450\n",
      "Phones                  3729550\n",
      "Other Electronics       3425800\n",
      "Laptops                 3416450\n",
      "Cameras                  835300\n",
      "Chargers & Cables        822150\n",
      "Wearables                785450\n",
      "TV & Display             715750\n",
      "Storage                  493650\n",
      "Printers & Scanners      290250\n",
      "Networking               277050\n",
      "Headphones               229550\n",
      "Speakers                 224750\n",
      "Gaming                   123500\n",
      "Smart Home                88800\n",
      "Name: purchased_last_month, dtype: int64\n"
     ]
    }
   ],
   "source": [
    "category_col = 'product_category'\n",
    "units_col = 'purchased_last_month'\n",
    "if category_col in df.columns and units_col in df.columns:\n",
    "    df[units_col] = pd.to_numeric(df[units_col], errors='coerce').fillna(0)\n",
    "    q1 = df.groupby(category_col)[units_col].sum().sort_values(ascending=False).head(20)\n",
    "    print(q1)\n",
    "else:\n",
    "    print('Required columns not found.')"
   ]
  },
  {
   "cell_type": "markdown",
   "id": "547ad8bf-d282-4ca6-a18e-35c6175c6e4f",
   "metadata": {},
   "source": [
    "##### ---- Outcome ----\n",
    "##### This output lists the top 20 product categories with the highest purchases.\n",
    "##### It highlights which categories customers are buying the most,\n",
    "##### giving clear direction on where sales are strongest\n",
    "##### and where the business should focus inventory and promotions."
   ]
  },
  {
   "cell_type": "markdown",
   "id": "8e90f55b",
   "metadata": {},
   "source": [
    "### Q2 — Which products have the highest revenue and what are their common attributes?\n",
    "**Importance:** Spotlight high-revenue SKUs for bundling and promotion."
   ]
  },
  {
   "cell_type": "markdown",
   "id": "e66cc4da-d3ac-48fb-8e15-90ee2ee4677e",
   "metadata": {},
   "source": [
    "##### ---- Notes on Q2: Revenue Contribution ----\n",
    "##### First, I clean the price and purchase columns by converting them into numbers \n",
    "##### and filling any missing values with 0.\n",
    "##### Then, I create a new column called \"revenue_last_month\" \n",
    "##### by multiplying discounted price with the number of purchases.\n",
    "##### After that, I sort all products by this revenue value in descending order.\n",
    "##### Finally, I take the top 20 products and display their details \n",
    "##### (title, price, purchases, revenue, and category).\n",
    "##### This way, I can clearly see which products earned the most money last month."
   ]
  },
  {
   "cell_type": "code",
   "execution_count": 18,
   "id": "f0b925c9",
   "metadata": {},
   "outputs": [
    {
     "data": {
      "text/html": [
       "<div>\n",
       "<style scoped>\n",
       "    .dataframe tbody tr th:only-of-type {\n",
       "        vertical-align: middle;\n",
       "    }\n",
       "\n",
       "    .dataframe tbody tr th {\n",
       "        vertical-align: top;\n",
       "    }\n",
       "\n",
       "    .dataframe thead th {\n",
       "        text-align: right;\n",
       "    }\n",
       "</style>\n",
       "<table border=\"1\" class=\"dataframe\">\n",
       "  <thead>\n",
       "    <tr style=\"text-align: right;\">\n",
       "      <th></th>\n",
       "      <th>product_title</th>\n",
       "      <th>discounted_price</th>\n",
       "      <th>purchased_last_month</th>\n",
       "      <th>revenue_last_month</th>\n",
       "      <th>product_category</th>\n",
       "    </tr>\n",
       "  </thead>\n",
       "  <tbody>\n",
       "    <tr>\n",
       "      <th>5</th>\n",
       "      <td>Texas Instruments TI-84 Plus CE Color Graphing...</td>\n",
       "      <td>99.95</td>\n",
       "      <td>100000</td>\n",
       "      <td>9995000.0</td>\n",
       "      <td>Other Electronics</td>\n",
       "    </tr>\n",
       "    <tr>\n",
       "      <th>11</th>\n",
       "      <td>Apple 2025 MacBook Air 13-inch Laptop with M4 ...</td>\n",
       "      <td>880.95</td>\n",
       "      <td>10000</td>\n",
       "      <td>8809500.0</td>\n",
       "      <td>Laptops</td>\n",
       "    </tr>\n",
       "    <tr>\n",
       "      <th>53</th>\n",
       "      <td>AMD RYZEN 7 9800X3D 8-Core, 16-Thread Desktop ...</td>\n",
       "      <td>476.50</td>\n",
       "      <td>10000</td>\n",
       "      <td>4765000.0</td>\n",
       "      <td>Laptops</td>\n",
       "    </tr>\n",
       "    <tr>\n",
       "      <th>69</th>\n",
       "      <td>Meta Quest 3 512GB | Thirty Percent Sharper Re...</td>\n",
       "      <td>485.05</td>\n",
       "      <td>9000</td>\n",
       "      <td>4365450.0</td>\n",
       "      <td>Other Electronics</td>\n",
       "    </tr>\n",
       "    <tr>\n",
       "      <th>128</th>\n",
       "      <td>Apple 2025 MacBook Air 15-inch Laptop with M4 ...</td>\n",
       "      <td>919.08</td>\n",
       "      <td>4000</td>\n",
       "      <td>3676320.0</td>\n",
       "      <td>Laptops</td>\n",
       "    </tr>\n",
       "    <tr>\n",
       "      <th>134</th>\n",
       "      <td>Apple AirPods Max Wireless Over-Ear Headphones...</td>\n",
       "      <td>549.15</td>\n",
       "      <td>6000</td>\n",
       "      <td>3294900.0</td>\n",
       "      <td>Phones</td>\n",
       "    </tr>\n",
       "    <tr>\n",
       "      <th>67</th>\n",
       "      <td>Apple 2024 MacBook Pro Laptop with M4 Pro, 12-...</td>\n",
       "      <td>1647.21</td>\n",
       "      <td>2000</td>\n",
       "      <td>3294420.0</td>\n",
       "      <td>Laptops</td>\n",
       "    </tr>\n",
       "    <tr>\n",
       "      <th>16</th>\n",
       "      <td>Amazon Basics Multipurpose Copy Printer Paper,...</td>\n",
       "      <td>39.97</td>\n",
       "      <td>80000</td>\n",
       "      <td>3197600.0</td>\n",
       "      <td>Printers &amp; Scanners</td>\n",
       "    </tr>\n",
       "    <tr>\n",
       "      <th>61</th>\n",
       "      <td>Apple iPad Air 11-inch with M3 chip Built for ...</td>\n",
       "      <td>514.28</td>\n",
       "      <td>6000</td>\n",
       "      <td>3085680.0</td>\n",
       "      <td>Laptops</td>\n",
       "    </tr>\n",
       "    <tr>\n",
       "      <th>9</th>\n",
       "      <td>Apple iPad 11-inch: A16 chip, 11-inch Model, L...</td>\n",
       "      <td>284.05</td>\n",
       "      <td>10000</td>\n",
       "      <td>2840500.0</td>\n",
       "      <td>Cameras</td>\n",
       "    </tr>\n",
       "    <tr>\n",
       "      <th>47</th>\n",
       "      <td>Apple Watch Series 10 [GPS 42mm case] Smartwat...</td>\n",
       "      <td>280.12</td>\n",
       "      <td>10000</td>\n",
       "      <td>2801200.0</td>\n",
       "      <td>TV &amp; Display</td>\n",
       "    </tr>\n",
       "    <tr>\n",
       "      <th>223</th>\n",
       "      <td>DJI Mini 4K, Drone with 4K UHD Camera for Adul...</td>\n",
       "      <td>399.00</td>\n",
       "      <td>7000</td>\n",
       "      <td>2793000.0</td>\n",
       "      <td>Laptops</td>\n",
       "    </tr>\n",
       "    <tr>\n",
       "      <th>78</th>\n",
       "      <td>Apple 2024 Mac mini Desktop Computer with M4 c...</td>\n",
       "      <td>540.75</td>\n",
       "      <td>5000</td>\n",
       "      <td>2703750.0</td>\n",
       "      <td>Laptops</td>\n",
       "    </tr>\n",
       "    <tr>\n",
       "      <th>43</th>\n",
       "      <td>HP OfficeJet Pro 8125e Wireless All-in-One Col...</td>\n",
       "      <td>119.99</td>\n",
       "      <td>20000</td>\n",
       "      <td>2399800.0</td>\n",
       "      <td>Laptops</td>\n",
       "    </tr>\n",
       "    <tr>\n",
       "      <th>483</th>\n",
       "      <td>HP OfficeJet Pro 8125e Wireless All-in-One Col...</td>\n",
       "      <td>119.99</td>\n",
       "      <td>20000</td>\n",
       "      <td>2399800.0</td>\n",
       "      <td>Laptops</td>\n",
       "    </tr>\n",
       "    <tr>\n",
       "      <th>28</th>\n",
       "      <td>HP 67 Black/Tri-color Ink Cartridges for HP Pr...</td>\n",
       "      <td>43.89</td>\n",
       "      <td>50000</td>\n",
       "      <td>2194500.0</td>\n",
       "      <td>Laptops</td>\n",
       "    </tr>\n",
       "    <tr>\n",
       "      <th>215</th>\n",
       "      <td>HP Color Laserjet Pro MFP 3301sdw Wireless All...</td>\n",
       "      <td>539.00</td>\n",
       "      <td>4000</td>\n",
       "      <td>2156000.0</td>\n",
       "      <td>Laptops</td>\n",
       "    </tr>\n",
       "    <tr>\n",
       "      <th>64</th>\n",
       "      <td>HP Original 910 Cyan, Magenta, Yellow / 910XL ...</td>\n",
       "      <td>106.89</td>\n",
       "      <td>20000</td>\n",
       "      <td>2137800.0</td>\n",
       "      <td>Laptops</td>\n",
       "    </tr>\n",
       "    <tr>\n",
       "      <th>167</th>\n",
       "      <td>Beats Powerbeats Pro 2 Wireless Bluetooth Earb...</td>\n",
       "      <td>249.95</td>\n",
       "      <td>8000</td>\n",
       "      <td>1999600.0</td>\n",
       "      <td>Phones</td>\n",
       "    </tr>\n",
       "    <tr>\n",
       "      <th>111</th>\n",
       "      <td>Sony WH-1000XM4 Wireless Premium Noise Canceli...</td>\n",
       "      <td>198.00</td>\n",
       "      <td>10000</td>\n",
       "      <td>1980000.0</td>\n",
       "      <td>Phones</td>\n",
       "    </tr>\n",
       "  </tbody>\n",
       "</table>\n",
       "</div>"
      ],
      "text/plain": [
       "                                         product_title  discounted_price  \\\n",
       "5    Texas Instruments TI-84 Plus CE Color Graphing...             99.95   \n",
       "11   Apple 2025 MacBook Air 13-inch Laptop with M4 ...            880.95   \n",
       "53   AMD RYZEN 7 9800X3D 8-Core, 16-Thread Desktop ...            476.50   \n",
       "69   Meta Quest 3 512GB | Thirty Percent Sharper Re...            485.05   \n",
       "128  Apple 2025 MacBook Air 15-inch Laptop with M4 ...            919.08   \n",
       "134  Apple AirPods Max Wireless Over-Ear Headphones...            549.15   \n",
       "67   Apple 2024 MacBook Pro Laptop with M4 Pro, 12-...           1647.21   \n",
       "16   Amazon Basics Multipurpose Copy Printer Paper,...             39.97   \n",
       "61   Apple iPad Air 11-inch with M3 chip Built for ...            514.28   \n",
       "9    Apple iPad 11-inch: A16 chip, 11-inch Model, L...            284.05   \n",
       "47   Apple Watch Series 10 [GPS 42mm case] Smartwat...            280.12   \n",
       "223  DJI Mini 4K, Drone with 4K UHD Camera for Adul...            399.00   \n",
       "78   Apple 2024 Mac mini Desktop Computer with M4 c...            540.75   \n",
       "43   HP OfficeJet Pro 8125e Wireless All-in-One Col...            119.99   \n",
       "483  HP OfficeJet Pro 8125e Wireless All-in-One Col...            119.99   \n",
       "28   HP 67 Black/Tri-color Ink Cartridges for HP Pr...             43.89   \n",
       "215  HP Color Laserjet Pro MFP 3301sdw Wireless All...            539.00   \n",
       "64   HP Original 910 Cyan, Magenta, Yellow / 910XL ...            106.89   \n",
       "167  Beats Powerbeats Pro 2 Wireless Bluetooth Earb...            249.95   \n",
       "111  Sony WH-1000XM4 Wireless Premium Noise Canceli...            198.00   \n",
       "\n",
       "     purchased_last_month  revenue_last_month     product_category  \n",
       "5                  100000           9995000.0    Other Electronics  \n",
       "11                  10000           8809500.0              Laptops  \n",
       "53                  10000           4765000.0              Laptops  \n",
       "69                   9000           4365450.0    Other Electronics  \n",
       "128                  4000           3676320.0              Laptops  \n",
       "134                  6000           3294900.0               Phones  \n",
       "67                   2000           3294420.0              Laptops  \n",
       "16                  80000           3197600.0  Printers & Scanners  \n",
       "61                   6000           3085680.0              Laptops  \n",
       "9                   10000           2840500.0              Cameras  \n",
       "47                  10000           2801200.0         TV & Display  \n",
       "223                  7000           2793000.0              Laptops  \n",
       "78                   5000           2703750.0              Laptops  \n",
       "43                  20000           2399800.0              Laptops  \n",
       "483                 20000           2399800.0              Laptops  \n",
       "28                  50000           2194500.0              Laptops  \n",
       "215                  4000           2156000.0              Laptops  \n",
       "64                  20000           2137800.0              Laptops  \n",
       "167                  8000           1999600.0               Phones  \n",
       "111                 10000           1980000.0               Phones  "
      ]
     },
     "metadata": {},
     "output_type": "display_data"
    }
   ],
   "source": [
    "if 'discounted_price' in df.columns and 'purchased_last_month' in df.columns:\n",
    "    df['discounted_price'] = pd.to_numeric(df['discounted_price'], errors='coerce').fillna(0)\n",
    "    df['purchased_last_month'] = pd.to_numeric(df['purchased_last_month'], errors='coerce').fillna(0)\n",
    "    df['revenue_last_month'] = df['discounted_price'] * df['purchased_last_month']\n",
    "    q2 = df.sort_values('revenue_last_month', ascending=False).head(20)\n",
    "    display(q2[['product_title','discounted_price','purchased_last_month','revenue_last_month','product_category']])\n",
    "else:\n",
    "    print('Price or purchase columns missing.')"
   ]
  },
  {
   "cell_type": "markdown",
   "id": "0f0b98a9-bcf6-45d1-bbd7-755af4b417c1",
   "metadata": {},
   "source": [
    "##### ---- Outcome Notes ----\n",
    "##### From this result, I can clearly see which products brought in the most money last month.\n",
    "##### It highlights the top 20 revenue-generating items, showing me not just what sells,\n",
    "##### but what actually makes the business profitable.\n",
    "##### These insights help me understand where to focus marketing, \n",
    "##### manage stock more effectively, and decide which products deserve more promotion."
   ]
  },
  {
   "cell_type": "markdown",
   "id": "aa8b5c50",
   "metadata": {},
   "source": [
    "### Q3-1 — What time windows (hour/day) see the most purchases?\n",
    "**Importance:** Optimize ad timing and promotions."
   ]
  },
  {
   "cell_type": "markdown",
   "id": "5c6f682f-1cc8-41d4-a0fe-0e6078d401e0",
   "metadata": {},
   "source": [
    "##### ---- Notes on Q3: Purchase Timing ----\n",
    "##### First, I look through all the column names to find any that have \"date\" or \"time\".\n",
    "##### If I find one, I pick it as my time column.\n",
    "##### Then, I convert that column into proper datetime format so I can work with it.\n",
    "##### From this datetime, I extract the \"hour\" part to see what time of day purchases happened.\n",
    "##### Finally, I count how many purchases fall into each hour\n",
    "##### and show the top 10 busiest hours.\n",
    "##### This helps me understand when customers are most active during the day."
   ]
  },
  {
   "cell_type": "code",
   "execution_count": 19,
   "id": "6d782fd5",
   "metadata": {},
   "outputs": [
    {
     "name": "stdout",
     "output_type": "stream",
     "text": [
      "_hour\n",
      "0.0    30692\n",
      "Name: count, dtype: int64\n"
     ]
    }
   ],
   "source": [
    "time_cols = [c for c in df.columns if 'date' in c or 'time' in c]\n",
    "if time_cols:\n",
    "    dcol = time_cols[0]\n",
    "    df['_tmp_date'] = pd.to_datetime(df[dcol], errors='coerce')\n",
    "    df['_hour'] = df['_tmp_date'].dt.hour\n",
    "    print(df['_hour'].value_counts().head(10))\n",
    "else:\n",
    "    print('No time-like columns found.')"
   ]
  },
  {
   "cell_type": "markdown",
   "id": "e87120d5-6c80-4e03-8297-92bc0b05b1b2",
   "metadata": {},
   "source": [
    "##### ---- Outcome Notes ----\n",
    "##### From this result, I can see which hours of the day customers shop the most.\n",
    "##### It shows me the busiest times when purchases peak,\n",
    "##### as well as the quieter hours when sales are low.\n",
    "##### This insight helps me plan better advertising and promotional campaigns,\n",
    "##### making sure I target customers at the times they are most active."
   ]
  },
  {
   "cell_type": "markdown",
   "id": "1d9b881f-af54-4856-a975-d8212e275bdb",
   "metadata": {},
   "source": [
    "### Q3-2 ---- Lowest vs Highest Sales Hours ----"
   ]
  },
  {
   "cell_type": "markdown",
   "id": "903e15b8-9926-4200-b235-69a34e338a3d",
   "metadata": {},
   "source": [
    "##### ---- Notes on Q3: Lowest vs Highest Sales Hours ----\n",
    "##### Step 1: I take the 'data_collected_at' column and turn it into proper datetime format.\n",
    "##### Step 2: From that, I pull out just the \"hour\" part to see when purchases happened.\n",
    "##### Step 3: I count how many purchases fall into each hour.\n",
    "##### Step 4: Then, I find which hour has the fewest purchases (lowest) \n",
    "#####         and which hour has the most purchases (highest).\n",
    "##### Step 5: I print these two results in a clear way and make a simple bar chart \n",
    "#####         to compare the quietest and busiest hours for shopping."
   ]
  },
  {
   "cell_type": "code",
   "execution_count": 20,
   "id": "d5b44cae-302d-489e-9ed2-04abbf29eb89",
   "metadata": {},
   "outputs": [
    {
     "name": "stdout",
     "output_type": "stream",
     "text": [
      "Lowest sales hour: 8:00\n",
      "Highest sales hour: 11:00\n"
     ]
    },
    {
     "data": {
      "text/plain": [
       "Text(0, 0.5, 'Number of Purchases')"
      ]
     },
     "execution_count": 20,
     "metadata": {},
     "output_type": "execute_result"
    },
    {
     "data": {
      "image/png": "[encoded data removed]",
      "text/plain": [
       "<Figure size 600x400 with 1 Axes>"
      ]
     },
     "metadata": {},
     "output_type": "display_data"
    }
   ],
   "source": [
    "\n",
    "# Step 1: Convert to datetime and extract hour\n",
    "df['_tmp_date'] = pd.to_datetime(df['data_collected_at'], errors='coerce')\n",
    "df['_hour'] = df['_tmp_date'].dt.hour\n",
    "\n",
    "# Step 2: Count purchases per hour\n",
    "hour_counts = df['_hour'].value_counts()\n",
    "\n",
    "# Step 3: Identify lowest and highest sales hours\n",
    "low = hour_counts.idxmin()\n",
    "high = hour_counts.idxmax()\n",
    "\n",
    "# Step 4: Print results in human-readable form\n",
    "print(f\"Lowest sales hour: {low}:00\")\n",
    "print(f\"Highest sales hour: {high}:00\")\n",
    "\n",
    "# Step 5: Plot comparison (Lowest vs Highest)\n",
    "ax = hour_counts[[low, high]].plot(\n",
    "    kind='bar', \n",
    "    color=['red','green'], \n",
    "    figsize=(6,4),\n",
    "    title=\"Lowest vs Highest Sales Hours\"\n",
    ")\n",
    "ax.set_xlabel(\"Hour of Day\")\n",
    "ax.set_ylabel(\"Number of Purchases\")\n"
   ]
  },
  {
   "cell_type": "markdown",
   "id": "8212540d-c2b8-4c32-9b91-b2cfe5f6550e",
   "metadata": {},
   "source": [
    "##### ---- Results ----\n",
    "##### This shows me the exact hours when customers are least active \n",
    "##### and the hours when they are most active.\n",
    "##### Knowing this helps in planning ads and marketing campaigns \n",
    "##### so that I reach customers at the right time of day."
   ]
  },
  {
   "cell_type": "markdown",
   "id": "a8cbfbef",
   "metadata": {},
   "source": [
    "### Q4 — Which product combinations are most often sold together?\n",
    "**Importance:** Suggests cross-sell and bundling opportunities."
   ]
  },
  {
   "cell_type": "markdown",
   "id": "15d6a1af-f260-4a21-b204-ec60777e9481",
   "metadata": {},
   "source": [
    "##### ---- Notes on Q4: Product Combinations ----\n",
    "##### First, I check if both 'product_category' and 'product_title' columns are available.\n",
    "##### If they are, I group all products by their category.\n",
    "##### For each category, I collect the product titles into a list \n",
    "##### so I can see what items belong together.\n",
    "##### Finally, I print a few examples of these groups."
   ]
  },
  {
   "cell_type": "code",
   "execution_count": 21,
   "id": "a7ab9b86",
   "metadata": {},
   "outputs": [
    {
     "name": "stdout",
     "output_type": "stream",
     "text": [
      "product_category\n",
      "Cameras              [Apple iPad 11-inch: A16 chip, 11-inch Model, ...\n",
      "Chargers & Cables    [Amazon Basics Micro SDXC Memory Card with Ful...\n",
      "Gaming               [Nintendo Switch™ with Neon Blue and Neon Red ...\n",
      "Headphones           [JBL Vibe Beam - True Wireless JBL Deep Bass S...\n",
      "Laptops              [LISEN USB C to Lightning Cable, 240W 4 in 1 C...\n",
      "Name: product_title, dtype: object\n"
     ]
    }
   ],
   "source": [
    "if 'product_category' in df.columns and 'product_title' in df.columns:\n",
    "    baskets = df.groupby('product_category')['product_title'].apply(list)\n",
    "    print(baskets.head())\n",
    "else:\n",
    "    print('product_category not present; cannot compute product combinations.')"
   ]
  },
  {
   "cell_type": "markdown",
   "id": "0b75d54d-add1-42cc-9912-e6fcff39ca21",
   "metadata": {},
   "source": [
    "##### ---- Results ----\n",
    "##### This shows me which products appear together within the same category.\n",
    "##### Even though I don’t have transaction-level data (like order IDs),\n",
    "##### this grouping still gives me an idea of possible combinations\n",
    "##### and helps in thinking about cross-selling opportunities within categories."
   ]
  },
  {
   "cell_type": "markdown",
   "id": "3dc459bd",
   "metadata": {},
   "source": [
    "### Q5 — How do price and rating relate to units sold?\n",
    "**Importance:** Understand price elasticity and product quality impact."
   ]
  },
  {
   "cell_type": "markdown",
   "id": "c6a399e5-53a0-4d67-bd71-db4f69421127",
   "metadata": {},
   "source": [
    "##### ---- Notes on Q5: Correlation Between Price, Rating, and Sales ----\n",
    "##### Step 1: I choose the key columns I want to compare:\n",
    "#####         discounted price, product rating, and purchases last month.\n",
    "##### Step 2: I make sure these columns are numeric so they can be used in calculations.\n",
    "##### Step 3: I calculate the correlation matrix, which shows how strongly \n",
    "#####         these factors are related to each other."
   ]
  },
  {
   "cell_type": "code",
   "execution_count": 22,
   "id": "24de4d79",
   "metadata": {},
   "outputs": [
    {
     "name": "stdout",
     "output_type": "stream",
     "text": [
      "                      discounted_price  product_rating  purchased_last_month\n",
      "discounted_price              1.000000       -0.136001             -0.073676\n",
      "product_rating               -0.136001        1.000000              0.091471\n",
      "purchased_last_month         -0.073676        0.091471              1.000000\n"
     ]
    }
   ],
   "source": [
    "cols = [c for c in ['discounted_price','product_rating','purchased_last_month'] if c in df.columns]\n",
    "if len(cols) >= 2:\n",
    "    for c in cols:\n",
    "        df[c] = pd.to_numeric(df[c], errors='coerce').fillna(0)\n",
    "    print(df[cols].corr())\n",
    "else:\n",
    "    print('Required columns missing.')"
   ]
  },
  {
   "cell_type": "markdown",
   "id": "436800fe-b703-4df7-9950-d021b6290c07",
   "metadata": {},
   "source": [
    "##### ---- Outcome Notes ----\n",
    "##### This result tells me whether higher discounts actually lead to more sales,\n",
    "##### and whether product ratings have a positive link with purchases.\n",
    "##### In simple terms, it helps me see if people buy more because of lower prices\n",
    "##### or because the product has good ratings."
   ]
  },
  {
   "cell_type": "markdown",
   "id": "716c57db-c0d8-43ac-b805-2892fb9a39c2",
   "metadata": {},
   "source": [
    "### Q6: Correlation of Discounts, Ratings & Reviews with Sales ----"
   ]
  },
  {
   "cell_type": "markdown",
   "id": "068c2402",
   "metadata": {},
   "source": [
    "\n",
    "**Importance:** IHelps decide whether discounts or customer trust signals (ratings & reviews) drive sales more, guiding pricing and marketing strategy."
   ]
  },
  {
   "cell_type": "markdown",
   "id": "a117f0a5-2f07-4a53-b9db-389449d1c53c",
   "metadata": {},
   "source": [
    "##### ---- Notes on Q6: Correlation of Discounts, Ratings & Reviews with Sales ----\n",
    "##### Step 1: I pick the most relevant columns — discount percentage, product rating, \n",
    "#####         total reviews, and purchases last month.\n",
    "##### Step 2: I make sure these columns are numeric so calculations work properly.\n",
    "##### Step 3: I calculate the correlation matrix to see how these factors are related.\n",
    "##### Step 4: I print out how strongly each factor relates to sales (purchases last month).\n",
    "##### Step 5: I create a heatmap so the correlations are easy to understand visually."
   ]
  },
  {
   "cell_type": "code",
   "execution_count": 23,
   "id": "7ff1a546",
   "metadata": {},
   "outputs": [
    {
     "name": "stdout",
     "output_type": "stream",
     "text": [
      "Correlation between discounts, reviews, ratings, and sales:\n",
      "\n",
      "purchased_last_month    1.000000\n",
      "total_reviews           0.300393\n",
      "product_rating          0.091471\n",
      "discount_percentage     0.060011\n",
      "Name: purchased_last_month, dtype: float64\n"
     ]
    },
    {
     "data": {
      "image/png": "[encoded data removed]",
      "text/plain": [
       "<Figure size 600x400 with 2 Axes>"
      ]
     },
     "metadata": {},
     "output_type": "display_data"
    }
   ],
   "source": [
    "# Step 1: Select relevant columns\n",
    "cols = ['discount_percentage', 'product_rating', 'total_reviews', 'purchased_last_month']\n",
    "\n",
    "# Step 2: Convert to numeric\n",
    "for c in cols:\n",
    "    if c in df.columns:\n",
    "        df[c] = pd.to_numeric(df[c], errors='coerce').fillna(0)\n",
    "\n",
    "# Step 3: Compute correlation matrix\n",
    "corr = df[cols].corr()\n",
    "\n",
    "# Step 4: Print correlation\n",
    "print(\"Correlation between discounts, reviews, ratings, and sales:\\n\")\n",
    "print(corr['purchased_last_month'].sort_values(ascending=False))\n",
    "\n",
    "# Step 5: Plot heatmap\n",
    "plt.figure(figsize=(6,4))\n",
    "sns.heatmap(corr, annot=True, cmap=\"coolwarm\", fmt=\".2f\")\n",
    "plt.title(\"Correlation of Discounts, Ratings & Reviews with Sales\")\n",
    "plt.show()"
   ]
  },
  {
   "cell_type": "markdown",
   "id": "b2cf385f-3850-4224-aa6f-5d7365739dbb",
   "metadata": {},
   "source": [
    "##### ------Results ----\n",
    "##### From this, I can see which factors (discounts, ratings, or reviews) \n",
    "##### have the strongest relationship with product sales.\n",
    "##### This helps me answer whether customers buy more because of bigger discounts, \n",
    "##### or because the product has strong ratings and many reviews.\n",
    "##### The insight is useful for deciding whether to focus more on price promotions \n",
    "##### or on building customer trust through reviews and ratings."
   ]
  },
  {
   "cell_type": "markdown",
   "id": "d34f1146",
   "metadata": {},
   "source": [
    "### Q7 — Seasonal trends: which months show spikes in sales for top categories?\n",
    "**Importance:** Plan season-specific inventory and promotions."
   ]
  },
  {
   "cell_type": "markdown",
   "id": "b93abb40-28ac-4dc5-b358-cf75c5138255",
   "metadata": {},
   "source": [
    "##### ---- Remarks on Q7: Sales Seasonal Trends ---- \n",
    "##### First, I confirm that the 'purchased_last_month' field contains a number.\n",
    "##### In step two, I format the 'data_collected_at' column using the correct date and time.\n",
    "##### Step 3: I take the month from this date and make a new column called '_month'.\n",
    "##### Step 4: I aggregate the data by month and product category, \n",
    "##### and then total the purchases for every pair of categories and months.\n",
    "##### Step 5: To make it easier to see monthly sales patterns by category, I restructure the data."
   ]
  },
  {
   "cell_type": "code",
   "execution_count": 24,
   "id": "f4fc2710",
   "metadata": {},
   "outputs": [
    {
     "data": {
      "text/html": [
       "<div>\n",
       "<style scoped>\n",
       "    .dataframe tbody tr th:only-of-type {\n",
       "        vertical-align: middle;\n",
       "    }\n",
       "\n",
       "    .dataframe tbody tr th {\n",
       "        vertical-align: top;\n",
       "    }\n",
       "\n",
       "    .dataframe thead th {\n",
       "        text-align: right;\n",
       "    }\n",
       "</style>\n",
       "<table border=\"1\" class=\"dataframe\">\n",
       "  <thead>\n",
       "    <tr style=\"text-align: right;\">\n",
       "      <th>_month</th>\n",
       "      <th>2025-08</th>\n",
       "    </tr>\n",
       "    <tr>\n",
       "      <th>product_category</th>\n",
       "      <th></th>\n",
       "    </tr>\n",
       "  </thead>\n",
       "  <tbody>\n",
       "    <tr>\n",
       "      <th>Cameras</th>\n",
       "      <td>835300</td>\n",
       "    </tr>\n",
       "    <tr>\n",
       "      <th>Chargers &amp; Cables</th>\n",
       "      <td>822150</td>\n",
       "    </tr>\n",
       "    <tr>\n",
       "      <th>Gaming</th>\n",
       "      <td>123500</td>\n",
       "    </tr>\n",
       "    <tr>\n",
       "      <th>Headphones</th>\n",
       "      <td>229550</td>\n",
       "    </tr>\n",
       "    <tr>\n",
       "      <th>Laptops</th>\n",
       "      <td>3416450</td>\n",
       "    </tr>\n",
       "  </tbody>\n",
       "</table>\n",
       "</div>"
      ],
      "text/plain": [
       "_month             2025-08\n",
       "product_category          \n",
       "Cameras             835300\n",
       "Chargers & Cables   822150\n",
       "Gaming              123500\n",
       "Headphones          229550\n",
       "Laptops            3416450"
      ]
     },
     "metadata": {},
     "output_type": "display_data"
    }
   ],
   "source": [
    "if 'data_collected_at' in df.columns and 'product_category' in df.columns and 'purchased_last_month' in df.columns:\n",
    "    df['purchased_last_month'] = pd.to_numeric(df['purchased_last_month'], errors='coerce').fillna(0)\n",
    "    df['_tmp_date'] = pd.to_datetime(df['data_collected_at'], errors='coerce')\n",
    "    df['_month'] = df['_tmp_date'].dt.to_period('M')\n",
    "    q7 = df.groupby(['product_category','_month'])['purchased_last_month'].sum().unstack(fill_value=0)\n",
    "    display(q7.head())\n",
    "else:\n",
    "    print('Required columns missing.')"
   ]
  },
  {
   "cell_type": "markdown",
   "id": "dfe66a01-4dd5-4d9c-a44d-149c048d12df",
   "metadata": {},
   "source": [
    "##### --- Results ----\n",
    "##### This demonstrates to me how sales of various product categories fluctuate month over month..\n",
    "##### I can spot which categories have strong seasonal spikes \n",
    "##### (for example, products that sell more during holidays or specific months).\n",
    "##### These insights help in planning inventory, seasonal promotions, \n",
    "##### and marketing campaigns at the right time."
   ]
  },
  {
   "cell_type": "markdown",
   "id": "4da7de7d",
   "metadata": {},
   "source": [
    "## Final Discussion and Conclusion\n",
    "\n",
    "- **Strengths:** The dataset offers a comprehensive insight into how Amazon products perform. It contains information on prices, discounts, ratings, reviews, and categories, enabling us to pinpoint the best-selling products, analyze the impact of discounts on sales, and comprehend how ratings and reviews contribute to establishing trust.\n",
    "- **Limitations:** There are some gaps in the data. Lacking transaction IDs limits our ability to comprehensively analyze the products that are bought together. The time information is restricted to collection dates, which means we lack insights into daily or weekly shopping trends. The absence of seller or brand details hinders us from gaining deeper insights at the seller level.\n",
    "- **Recommendations:** •\tHere are some useful suggestions and concentrate on based on my analysis.\n",
    "•\tSince the most income is generated from best-selling or highest-rated product categories, need to work harder to promote them.\n",
    "•\tThere is need to run ads during the busiest shopping hours because timing is everything.\n",
    "•\tDiscounts can be very effective, particularly to draw customers to new or underutilized products.\n",
    "•\tIn order to sustain consistent sales for the established product lines, I would mainly rely on customer ratings and reviews.\n",
    "•\tI would focus customers to provide more reviews and comments on their purchases in order to foster trust.\n",
    "•\tAbove all, maintaining a high standard of customer service and product quality is essential to gaining devoted clients over time.\n"
   ]
  },
  {
   "cell_type": "code",
   "execution_count": null,
   "id": "72deacd9-ed9d-48db-ada7-420631cdd04f",
   "metadata": {},
   "outputs": [],
   "source": []
  },
  {
   "cell_type": "code",
   "execution_count": null,
   "id": "06f90b72-7f5c-4fce-9d4d-730bbbd97234",
   "metadata": {},
   "outputs": [],
   "source": []
  }
 ],
 "metadata": {
  "kernelspec": {
   "display_name": "Python [conda env:base] *",
   "language": "python",
   "name": "conda-base-py"
  },
  "language_info": {
   "codemirror_mode": {
    "name": "ipython",
    "version": 3
   },
   "file_extension": ".py",
   "mimetype": "text/x-python",
   "name": "python",
   "nbconvert_exporter": "python",
   "pygments_lexer": "ipython3",
   "version": "3.13.5"
  }
 },
 "nbformat": 4,
 "nbformat_minor": 5
}
